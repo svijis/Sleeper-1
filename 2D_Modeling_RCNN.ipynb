{
  "nbformat": 4,
  "nbformat_minor": 5,
  "metadata": {
    "kernelspec": {
      "display_name": "Python 3",
      "language": "python",
      "name": "python3"
    },
    "language_info": {
      "codemirror_mode": {
        "name": "ipython",
        "version": 3
      },
      "file_extension": ".py",
      "mimetype": "text/x-python",
      "name": "python",
      "nbconvert_exporter": "python",
      "pygments_lexer": "ipython3",
      "version": "3.8.5"
    },
    "colab": {
      "name": "2D_Modeling_RCNN.ipynb",
      "provenance": [],
      "collapsed_sections": []
    },
    "accelerator": "GPU"
  },
  "cells": [
    {
      "cell_type": "code",
      "metadata": {
        "id": "respiratory-external"
      },
      "source": [
        "import os\n",
        "import random\n",
        "import numpy as np\n",
        "import torch\n",
        "import torch.nn as nn\n",
        "import torch.nn.functional as F\n",
        "import pickle\n",
        "from torch.utils.data import Dataset, SubsetRandomSampler, DataLoader"
      ],
      "id": "respiratory-external",
      "execution_count": 226,
      "outputs": []
    },
    {
      "cell_type": "code",
      "metadata": {
        "id": "grateful-biotechnology"
      },
      "source": [
        "if torch.cuda.is_available():  \n",
        "  dev = \"cuda:0\" \n",
        "else:  \n",
        "  dev = \"cpu\"  \n",
        "device = torch.device(dev)  \n",
        "a = torch.zeros(4,3)    \n",
        "a = a.to(device)"
      ],
      "id": "grateful-biotechnology",
      "execution_count": 227,
      "outputs": []
    },
    {
      "cell_type": "code",
      "metadata": {
        "id": "fatal-arrival"
      },
      "source": [
        "labels = {}\n",
        "#W, R, 1, 2, 3, 4, M \n",
        "labels['W']=5\n",
        "labels['R']=6\n",
        "labels['M']=0\n",
        "labels['1']=1\n",
        "labels['2']=2\n",
        "labels['3']=3\n",
        "labels['4']=4"
      ],
      "id": "fatal-arrival",
      "execution_count": 228,
      "outputs": []
    },
    {
      "cell_type": "code",
      "metadata": {
        "id": "expanded-wallace"
      },
      "source": [
        "def load_data(dataset):\n",
        "    batch_size=32\n",
        "    validation_split = .2\n",
        "    shuffle_dataset = True\n",
        "    random_seed= 42\n",
        "    dataset_size = len(dataset)\n",
        "    indices = list(range(dataset_size))\n",
        "    split = int(np.floor(validation_split * dataset_size))\n",
        "    if shuffle_dataset :\n",
        "        np.random.seed(random_seed)\n",
        "        np.random.shuffle(indices)\n",
        "    train_indices, val_indices = indices[split:], indices[:split]\n",
        "\n",
        "    # Creating PT data samplers and loaders:\n",
        "    train_sampler = SubsetRandomSampler(train_indices)\n",
        "    valid_sampler = SubsetRandomSampler(val_indices)\n",
        "    train_loader = torch.utils.data.DataLoader(dataset, batch_size=batch_size, \n",
        "                                               sampler=train_sampler)\n",
        "    val_loader = torch.utils.data.DataLoader(dataset, batch_size=batch_size,\n",
        "                                                    sampler=valid_sampler)\n",
        "\n",
        "\n",
        "    return train_loader, val_loader"
      ],
      "id": "expanded-wallace",
      "execution_count": 229,
      "outputs": []
    },
    {
      "cell_type": "code",
      "metadata": {
        "id": "major-orleans"
      },
      "source": [
        "\n",
        "class CustomSleepDataset(Dataset):\n",
        "    \n",
        "    def __init__(self, file_list):\n",
        "        self.x = []\n",
        "        self.y = []\n",
        "        for i in file_list.keys():\n",
        "            self.parse(file_list[i][\"PSG.edf\"], file_list[i][\"Hypnogram.edf\"])\n",
        "        self.x = torch.FloatTensor(self.x)\n",
        "        self.y = torch.LongTensor(self.y)\n",
        "    def parse(self, sleep, hypnogram):\n",
        "        _,_, header = highlevel.read_edf(hypnogram)\n",
        "        signals, _, _ = highlevel.read_edf(sleep)\n",
        "     \n",
        "        for annotation in header['annotations']:\n",
        "            start = int(annotation[0])\n",
        "            end = int(annotation[1])\n",
        "            sleep_stage = annotation[2][-1]\n",
        "            if sleep_stage != '?':\n",
        "                for i in range(start, end, 30):\n",
        "                # pick i to i +30 for target range end\n",
        "                    self.x.append([ signals[0][i*100:(i+30)*100],signals[1][i*100:(i+30)*100], signals[2][i*100:(i+30)*100]])\n",
        "                    self.y.append(labels[sleep_stage])\n",
        "    \n",
        "    def __len__(self):\n",
        "\n",
        "        return len(self.y)\n",
        "\n",
        "    \n",
        "    def __getitem__(self, index):\n",
        "        \n",
        "        return (self.x[index], self.y[index])\n",
        "class CustomSleepSpectrogramDataset(CustomSleepDataset):\n",
        "    \n",
        "    def __init__(self, file_list):\n",
        "        super().__init__(file_list)\n",
        "    def parse(self, sleep, hypnogram):\n",
        "        _,_, header = highlevel.read_edf(hypnogram)\n",
        "        signals, _, _ = highlevel.read_edf(sleep)\n",
        "        for annotation in header['annotations']:\n",
        "            start = int(annotation[0])\n",
        "            end = int(annotation[1])\n",
        "            sleep_stage = annotation[2][-1]\n",
        "            if (sleep_stage != '?') and (sleep_stage !='W') and (sleep_stage != 'R') and (sleep_stage != 'e'):\n",
        "                for i in range(start, start+end, 30):\n",
        "                # pick i to i +30 for target range end\n",
        "                    x = np.asarray([ signals[0][i*100:(i+30)*100],signals[1][i*100:(i+30)*100], signals[2][i*100:(i+30)*100]])\n",
        "                    _,_,x = spectrogram(x, fs=100)\n",
        "                    self.x.append(x)\n",
        "                    self.y.append(labels[sleep_stage])\n",
        "\n"
      ],
      "id": "major-orleans",
      "execution_count": 230,
      "outputs": []
    },
    {
      "cell_type": "code",
      "metadata": {
        "colab": {
          "base_uri": "https://localhost:8080/"
        },
        "id": "FHtlWBPjHo5N",
        "outputId": "0adc2267-ce59-485b-d42e-f9d9daa58cee"
      },
      "source": [
        "from google.colab import drive\n",
        "drive.mount('/content/drive')"
      ],
      "id": "FHtlWBPjHo5N",
      "execution_count": 231,
      "outputs": [
        {
          "output_type": "stream",
          "text": [
            "Drive already mounted at /content/drive; to attempt to forcibly remount, call drive.mount(\"/content/drive\", force_remount=True).\n"
          ],
          "name": "stdout"
        }
      ]
    },
    {
      "cell_type": "code",
      "metadata": {
        "id": "wanted-collection"
      },
      "source": [
        "\n",
        "#filename = '2d_sleeper_dataset.pkl'\n",
        "filename = '/content/drive/MyDrive/2d_sleeper_dataset.pkl'\n",
        "infile = open(filename,'rb')\n",
        "dataset = pickle.load(infile)\n",
        "dataset.x = (dataset.x - dataset.x.mean())/dataset.x.std()\n",
        "infile.close()\n",
        "train_loader, val_loader = load_data(dataset)"
      ],
      "id": "wanted-collection",
      "execution_count": 249,
      "outputs": []
    },
    {
      "cell_type": "code",
      "metadata": {
        "id": "wJrT7SBDUfOY"
      },
      "source": [
        "class CNN(nn.Module):\n",
        "    def __init__(self):\n",
        "        super(CNN, self).__init__()\n",
        "\n",
        "        self.conv1 = nn.Conv2d(in_channels=3, out_channels=256, kernel_size=7,stride=1,padding=10) \n",
        "        self.conv2 = nn.Conv2d(in_channels=256, out_channels=128, kernel_size=5,stride=2,padding=6)\n",
        "        self.conv2_drop = nn.Dropout2d()\n",
        "\n",
        "    def forward(self, x):\n",
        "        x = F.relu(F.max_pool2d(self.conv1(x), 2))\n",
        "        x = F.relu(F.max_pool2d(self.conv2_drop(self.conv2(x)), 2))   \n",
        "        #print(x.shape) \n",
        "        x = x.view(-1, 128*20*5)  \n",
        "        return x\n",
        "\n",
        "class Combine(nn.Module):\n",
        "    def __init__(self):\n",
        "        super(Combine, self).__init__()\n",
        "\n",
        "        self.cnn = CNN()\n",
        "        self.rnn = nn.LSTM(\n",
        "            input_size=128, \n",
        "            hidden_size=64, \n",
        "            num_layers=2,\n",
        "            batch_first=True)\n",
        "        self.linear = nn.Linear(64,5) \n",
        "\n",
        "    def forward(self, x): \n",
        "        batch_size, C, H, W = x.size()\n",
        "        timesteps = 100\n",
        "        c_in = x.view(batch_size, C, H, W)  \n",
        "        c_out = self.cnn(c_in)  \n",
        "        r_in = c_out.view(batch_size, timesteps, -1)  \n",
        "        r_out, (h_n, h_c) = self.rnn(r_in)  \n",
        "        r_out2 = self.linear(r_out[:, -1, :])\n",
        "        return F.log_softmax(r_out2, dim=1)\n",
        "         "
      ],
      "id": "wJrT7SBDUfOY",
      "execution_count": 250,
      "outputs": []
    },
    {
      "cell_type": "code",
      "metadata": {
        "id": "sonic-secondary",
        "colab": {
          "base_uri": "https://localhost:8080/"
        },
        "outputId": "d9c37d4f-ff8b-4c2a-cc2a-9dbf0e2e6694"
      },
      "source": [
        "#model = SimpleCNN()\n",
        "model = Combine()\n",
        "model.to(device)\n"
      ],
      "id": "sonic-secondary",
      "execution_count": 251,
      "outputs": [
        {
          "output_type": "execute_result",
          "data": {
            "text/plain": [
              "Combine(\n",
              "  (cnn): CNN(\n",
              "    (conv1): Conv2d(3, 256, kernel_size=(7, 7), stride=(1, 1), padding=(10, 10))\n",
              "    (conv2): Conv2d(256, 128, kernel_size=(5, 5), stride=(2, 2), padding=(6, 6))\n",
              "    (conv2_drop): Dropout2d(p=0.5, inplace=False)\n",
              "  )\n",
              "  (rnn): LSTM(128, 64, num_layers=2, batch_first=True)\n",
              "  (linear): Linear(in_features=64, out_features=5, bias=True)\n",
              ")"
            ]
          },
          "metadata": {
            "tags": []
          },
          "execution_count": 251
        }
      ]
    },
    {
      "cell_type": "code",
      "metadata": {
        "id": "capable-thomas"
      },
      "source": [
        "##load model\n",
        "import torch.optim as optim\n",
        "criterion = torch.nn.modules.loss.CrossEntropyLoss()\n",
        "optimizer = torch.optim.SGD(model.parameters(), lr=0.01, momentum=0.9)"
      ],
      "id": "capable-thomas",
      "execution_count": 252,
      "outputs": []
    },
    {
      "cell_type": "code",
      "metadata": {
        "id": "incident-denmark"
      },
      "source": [
        "##train\n",
        "n_epochs = 35\n",
        "\n",
        "def train_model(model, train_dataloader, n_epoch=n_epochs, optimizer=optimizer, criterion=criterion):\n",
        "\n",
        "    model.train()# prep model for training\n",
        "    # start time\n",
        "    import time\n",
        "    start_time = time.time() \n",
        "\n",
        "    for epoch in range(n_epoch):\n",
        "        curr_epoch_loss = []\n",
        "        for data, target in train_dataloader:\n",
        "            data = data.cuda()\n",
        "            target = target.cuda()\n",
        "            optimizer.zero_grad()\n",
        "\n",
        "            with torch.set_grad_enabled(True):\n",
        "                outputs = model(data)\n",
        "                _, preds = torch.max(outputs, 1)\n",
        "                loss = criterion(outputs, target)\n",
        "                # backward + optimize only if in training phase\n",
        "                loss.backward()\n",
        "                optimizer.step()\n",
        "           \n",
        "            curr_epoch_loss.append(loss.cpu().data.numpy())\n",
        "        print(f\"Epoch {epoch}: curr_epoch_loss={np.mean(curr_epoch_loss)}\")\n",
        "        print(\"--- %s seconds ---\" % (time.time() - start_time))\n",
        "    return model\n"
      ],
      "id": "incident-denmark",
      "execution_count": 253,
      "outputs": []
    },
    {
      "cell_type": "code",
      "metadata": {
        "id": "stone-asthma",
        "colab": {
          "base_uri": "https://localhost:8080/"
        },
        "outputId": "5fef5e17-943c-4fee-e024-48f90a3a40b1"
      },
      "source": [
        "train_model(model, train_loader,n_epochs, optimizer, criterion)"
      ],
      "id": "stone-asthma",
      "execution_count": 254,
      "outputs": [
        {
          "output_type": "stream",
          "text": [
            "Epoch 0: curr_epoch_loss=0.7585091590881348\n",
            "--- 41.63867473602295 seconds ---\n",
            "Epoch 1: curr_epoch_loss=0.6039285659790039\n",
            "--- 83.08992290496826 seconds ---\n",
            "Epoch 2: curr_epoch_loss=0.5768120288848877\n",
            "--- 124.43184161186218 seconds ---\n",
            "Epoch 3: curr_epoch_loss=0.5588324666023254\n",
            "--- 166.00555729866028 seconds ---\n",
            "Epoch 4: curr_epoch_loss=0.5417046546936035\n",
            "--- 207.3173942565918 seconds ---\n",
            "Epoch 5: curr_epoch_loss=0.5295562148094177\n",
            "--- 248.64177012443542 seconds ---\n",
            "Epoch 6: curr_epoch_loss=0.5220188498497009\n",
            "--- 290.0850257873535 seconds ---\n",
            "Epoch 7: curr_epoch_loss=0.5141026973724365\n",
            "--- 331.43667793273926 seconds ---\n",
            "Epoch 8: curr_epoch_loss=0.5028096437454224\n",
            "--- 372.857314825058 seconds ---\n",
            "Epoch 9: curr_epoch_loss=0.49732035398483276\n",
            "--- 414.22553539276123 seconds ---\n",
            "Epoch 10: curr_epoch_loss=0.4901651442050934\n",
            "--- 455.5496184825897 seconds ---\n",
            "Epoch 11: curr_epoch_loss=0.4881790280342102\n",
            "--- 496.93533635139465 seconds ---\n",
            "Epoch 12: curr_epoch_loss=0.48163795471191406\n",
            "--- 538.2829637527466 seconds ---\n",
            "Epoch 13: curr_epoch_loss=0.47640636563301086\n",
            "--- 579.670547246933 seconds ---\n",
            "Epoch 14: curr_epoch_loss=0.4722895622253418\n",
            "--- 621.0511467456818 seconds ---\n",
            "Epoch 15: curr_epoch_loss=0.4662514328956604\n",
            "--- 662.3873989582062 seconds ---\n",
            "Epoch 16: curr_epoch_loss=0.46153348684310913\n",
            "--- 703.7982974052429 seconds ---\n",
            "Epoch 17: curr_epoch_loss=0.4571846127510071\n",
            "--- 745.1010310649872 seconds ---\n",
            "Epoch 18: curr_epoch_loss=0.45120474696159363\n",
            "--- 786.5198419094086 seconds ---\n",
            "Epoch 19: curr_epoch_loss=0.44848334789276123\n",
            "--- 827.9370918273926 seconds ---\n",
            "Epoch 20: curr_epoch_loss=0.4439751207828522\n",
            "--- 869.4258880615234 seconds ---\n",
            "Epoch 21: curr_epoch_loss=0.44000837206840515\n",
            "--- 910.7948715686798 seconds ---\n",
            "Epoch 22: curr_epoch_loss=0.43771037459373474\n",
            "--- 952.1867971420288 seconds ---\n",
            "Epoch 23: curr_epoch_loss=0.43695321679115295\n",
            "--- 993.7920453548431 seconds ---\n",
            "Epoch 24: curr_epoch_loss=0.42795491218566895\n",
            "--- 1035.2639844417572 seconds ---\n",
            "Epoch 25: curr_epoch_loss=0.43352192640304565\n",
            "--- 1076.6750354766846 seconds ---\n",
            "Epoch 26: curr_epoch_loss=0.42202457785606384\n",
            "--- 1118.0003905296326 seconds ---\n",
            "Epoch 27: curr_epoch_loss=0.4157539904117584\n",
            "--- 1159.321551322937 seconds ---\n",
            "Epoch 28: curr_epoch_loss=0.41101840138435364\n",
            "--- 1200.6700670719147 seconds ---\n",
            "Epoch 29: curr_epoch_loss=0.4101635217666626\n",
            "--- 1241.9834623336792 seconds ---\n",
            "Epoch 30: curr_epoch_loss=0.4067813754081726\n",
            "--- 1283.3115408420563 seconds ---\n",
            "Epoch 31: curr_epoch_loss=0.4016600549221039\n",
            "--- 1324.5375711917877 seconds ---\n",
            "Epoch 32: curr_epoch_loss=0.4002138078212738\n",
            "--- 1365.8345973491669 seconds ---\n",
            "Epoch 33: curr_epoch_loss=0.39459413290023804\n",
            "--- 1407.2334699630737 seconds ---\n",
            "Epoch 34: curr_epoch_loss=0.3911483883857727\n",
            "--- 1448.569674730301 seconds ---\n"
          ],
          "name": "stdout"
        },
        {
          "output_type": "execute_result",
          "data": {
            "text/plain": [
              "Combine(\n",
              "  (cnn): CNN(\n",
              "    (conv1): Conv2d(3, 256, kernel_size=(7, 7), stride=(1, 1), padding=(10, 10))\n",
              "    (conv2): Conv2d(256, 128, kernel_size=(5, 5), stride=(2, 2), padding=(6, 6))\n",
              "    (conv2_drop): Dropout2d(p=0.5, inplace=False)\n",
              "  )\n",
              "  (rnn): LSTM(128, 64, num_layers=2, batch_first=True)\n",
              "  (linear): Linear(in_features=64, out_features=5, bias=True)\n",
              ")"
            ]
          },
          "metadata": {
            "tags": []
          },
          "execution_count": 254
        }
      ]
    },
    {
      "cell_type": "code",
      "metadata": {
        "id": "filled-wildlife"
      },
      "source": [
        "def eval_model(model, dataloader):\n",
        "\n",
        "    model.eval()\n",
        "    Y_pred = []\n",
        "    Y_test = []\n",
        "\n",
        "    import time\n",
        "    start_time = time.time()  \n",
        "\n",
        "    for data, target in dataloader:\n",
        "        data = data.cuda()\n",
        "        target = target.cuda()\n",
        "        outputs = model(data)\n",
        "        _,outputs = torch.max(outputs, dim = 1)\n",
        "        Y_pred.append(outputs.cpu())\n",
        "\n",
        "        Y_test.append(target.cpu().detach().numpy())\n",
        "    print(\"--- %s seconds ---\" % (time.time() - start_time))\n",
        "    Y_pred = np.concatenate(Y_pred, axis=0)\n",
        "    Y_test = np.concatenate(Y_test, axis=0)\n",
        "\n",
        "    return Y_pred, Y_test"
      ],
      "id": "filled-wildlife",
      "execution_count": 255,
      "outputs": []
    },
    {
      "cell_type": "code",
      "metadata": {
        "id": "smart-funds",
        "colab": {
          "base_uri": "https://localhost:8080/"
        },
        "outputId": "07da6bc3-3b5c-40fc-d813-a8f7ad339a24"
      },
      "source": [
        "from sklearn.metrics import accuracy_score\n",
        "from sklearn.metrics import f1_score\n",
        "from sklearn.metrics import cohen_kappa_score\n",
        "\n",
        "y_pred, y_true = eval_model(model, val_loader) \n",
        "acc = accuracy_score(y_true, y_pred) \n",
        "print(acc)\n",
        "\n",
        "f1 = f1_score(y_true, y_pred, average='weighted')\n",
        "print(f1)\n",
        "\n",
        "ck = cohen_kappa_score(y_true, y_pred, weights=\"quadratic\")\n",
        "print(ck)"
      ],
      "id": "smart-funds",
      "execution_count": 256,
      "outputs": [
        {
          "output_type": "stream",
          "text": [
            "--- 3.5082600116729736 seconds ---\n",
            "0.8051041553059222\n",
            "0.7957894032160864\n",
            "0.7580495948489501\n"
          ],
          "name": "stdout"
        }
      ]
    },
    {
      "cell_type": "code",
      "metadata": {
        "id": "informative-amendment",
        "colab": {
          "base_uri": "https://localhost:8080/"
        },
        "outputId": "3bb8b1aa-36df-4221-9036-d70e9a210c26"
      },
      "source": [
        "y_true"
      ],
      "id": "informative-amendment",
      "execution_count": 257,
      "outputs": [
        {
          "output_type": "execute_result",
          "data": {
            "text/plain": [
              "array([2, 1, 1, ..., 3, 2, 1])"
            ]
          },
          "metadata": {
            "tags": []
          },
          "execution_count": 257
        }
      ]
    },
    {
      "cell_type": "code",
      "metadata": {
        "colab": {
          "base_uri": "https://localhost:8080/"
        },
        "id": "Jho0zZbha3FK",
        "outputId": "ee32a884-5076-4298-dbb8-0d834a601456"
      },
      "source": [
        "y_pred"
      ],
      "id": "Jho0zZbha3FK",
      "execution_count": 258,
      "outputs": [
        {
          "output_type": "execute_result",
          "data": {
            "text/plain": [
              "array([2, 2, 2, ..., 2, 2, 1])"
            ]
          },
          "metadata": {
            "tags": []
          },
          "execution_count": 258
        }
      ]
    },
    {
      "cell_type": "code",
      "metadata": {
        "id": "joined-apollo",
        "colab": {
          "base_uri": "https://localhost:8080/"
        },
        "outputId": "6c9c7657-0e41-419b-db39-6e021b329df3"
      },
      "source": [
        "from sklearn.metrics import confusion_matrix\n",
        "cf_matrix = confusion_matrix(y_true, y_pred)\n",
        "print(cf_matrix)"
      ],
      "id": "joined-apollo",
      "execution_count": 259,
      "outputs": [
        {
          "output_type": "stream",
          "text": [
            "[[1220  861    6    1]\n",
            " [ 343 5553   60    2]\n",
            " [   0  327  362   27]\n",
            " [   0    9  151  247]]\n"
          ],
          "name": "stdout"
        }
      ]
    },
    {
      "cell_type": "code",
      "metadata": {
        "id": "heated-seventh"
      },
      "source": [
        "import numpy as np\n",
        "import matplotlib.pyplot as plt\n",
        "import seaborn as sns\n",
        "\n",
        "def create_confusion_matrix(cf,\n",
        "                          group_names=None,\n",
        "                          categories='auto',\n",
        "                          count=False,\n",
        "                          percent=True,\n",
        "                          cbar=True,\n",
        "                          xyticks=True, \n",
        "                          figsize=None,\n",
        "                          cmap='Blues',\n",
        "                          title=None):  \n",
        "   \n",
        "    blanks = ['' for i in range(cf.size)]\n",
        "\n",
        "    if group_names and len(group_names)==cf.size:\n",
        "        group_labels = [\"{}\\n\".format(value) for value in group_names]\n",
        "    else:\n",
        "        group_labels = blanks\n",
        "\n",
        "    if count:\n",
        "        group_counts = [\"{0:0.0f}\\n\".format(value) for value in cf.flatten()]\n",
        "    else:\n",
        "        group_counts = blanks\n",
        "\n",
        "    if percent:\n",
        "        group_percentages = [\"{0:.2%}\".format(value) for value in cf.flatten()/np.sum(cf)]\n",
        "    else:\n",
        "        group_percentages = blanks\n",
        "\n",
        "    box_labels = [f\"{v1}{v2}{v3}\".strip() for v1, v2, v3 in zip(group_labels,group_counts,group_percentages)]\n",
        "    box_labels = np.asarray(box_labels).reshape(cf.shape[0],cf.shape[1])\n",
        " \n",
        "    plt.figure(figsize=figsize)\n",
        "    sns.heatmap(cf,annot=box_labels,fmt=\"\", \n",
        "                linewidths=.2,  \n",
        "                linecolor=\"black\", \n",
        "                 \n",
        "                cmap=cmap,cbar=cbar,\n",
        "                xticklabels=categories,\n",
        "                yticklabels=categories)\n",
        "  \n",
        "    plt.ylabel('True label - Sleep Stages')\n",
        "    plt.xlabel('Predicted label - Sleep Stages') \n",
        "    \n",
        "    if title:\n",
        "        plt.title(title)    "
      ],
      "id": "heated-seventh",
      "execution_count": 260,
      "outputs": []
    },
    {
      "cell_type": "code",
      "metadata": {
        "id": "56S1b7FOWTgZ",
        "colab": {
          "base_uri": "https://localhost:8080/",
          "height": 404
        },
        "outputId": "072208f8-615b-4bf5-e3ad-270de0b80af3"
      },
      "source": [
        "title = \"Normalized Confusion Matrix for 2D-RCNN LSTM with 35 Epoch\" \n",
        "categories = [1,2,3,4]\n",
        "# Normalize #\n",
        "conf_mat_normalized = cf_matrix.astype('float') / cf_matrix.sum(axis=1)[:, np.newaxis]\n",
        "create_confusion_matrix(conf_mat_normalized, figsize=(8,6), count=False, cbar=False, title=title,\n",
        "                      categories = categories, cmap=\"GnBu\")"
      ],
      "id": "56S1b7FOWTgZ",
      "execution_count": 261,
      "outputs": [
        {
          "output_type": "display_data",
          "data": {
            "image/png": "[encoded data removed]",
            "text/plain": [
              "<Figure size 576x432 with 1 Axes>"
            ]
          },
          "metadata": {
            "tags": [],
            "needs_background": "light"
          }
        }
      ]
    }
  ]
}